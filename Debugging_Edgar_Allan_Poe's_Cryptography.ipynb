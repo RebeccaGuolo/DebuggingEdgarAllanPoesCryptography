{
  "nbformat": 4,
  "nbformat_minor": 0,
  "metadata": {
    "colab": {
      "provenance": [],
      "collapsed_sections": [
        "s3LRJQwM0ovX",
        "obDtKH3rH7g7",
        "c7bp2vdf9O24"
      ]
    },
    "kernelspec": {
      "name": "python3",
      "display_name": "Python 3"
    },
    "language_info": {
      "name": "python"
    }
  },
  "cells": [
    {
      "cell_type": "markdown",
      "source": [
        "# **Cryptography - Edgar Allan Poe's The Gold Bug**\n",
        "\n",
        "###The following script has the aim to reproduce in a computational way the cryptogram around which Edgar Allan poe's tale The Gold Bug resolves. It belongs to the third chapter of the Rebecca Guolo's Bachelor thesis \"Debugging Edgar Allan Poe's cryptography\"."
      ],
      "metadata": {
        "id": "Q1aONRc6tt_H"
      }
    },
    {
      "cell_type": "markdown",
      "source": [
        "####*Frequency analysis of Poe's cryptogram.*  \n",
        "Firstly, it is shown the cryptogram found by Legrand, rendered as a list in order to carry on further investigations. Moreover, it is printed the number of the symbols that make it up. "
      ],
      "metadata": {
        "id": "s3LRJQwM0ovX"
      }
    },
    {
      "cell_type": "code",
      "source": [
        "PoeCiphertext = \"53‡‡†305))6*;4826)4‡.)4‡);806*;48†8¶60))85;1‡(;:‡*8†83(88)5*†;46(;88*96*?;8)*‡(;485);5*†2:*‡(;4956*2(5*—4)8¶8*;4069285);)6†8)4‡‡;1(‡9;48081;8:8‡1;48†85;4)485†528806*81(‡9;48;(88;4(‡?34;48)4‡;161;:188;‡?;\"\n",
        "print(PoeCiphertext)\n",
        "\n",
        "PoeCryptogram = list(PoeCiphertext)\n",
        "print(PoeCryptogram)\n",
        "\n",
        "print(len(PoeCryptogram))"
      ],
      "metadata": {
        "colab": {
          "base_uri": "https://localhost:8080/"
        },
        "id": "13HPCJWXvIAo",
        "outputId": "0bfd6257-ad4f-4e9e-8f07-8722f0566c8c"
      },
      "execution_count": 76,
      "outputs": [
        {
          "output_type": "stream",
          "name": "stdout",
          "text": [
            "53‡‡†305))6*;4826)4‡.)4‡);806*;48†8¶60))85;1‡(;:‡*8†83(88)5*†;46(;88*96*?;8)*‡(;485);5*†2:*‡(;4956*2(5*—4)8¶8*;4069285);)6†8)4‡‡;1(‡9;48081;8:8‡1;48†85;4)485†528806*81(‡9;48;(88;4(‡?34;48)4‡;161;:188;‡?;\n",
            "['5', '3', '‡', '‡', '†', '3', '0', '5', ')', ')', '6', '*', ';', '4', '8', '2', '6', ')', '4', '‡', '.', ')', '4', '‡', ')', ';', '8', '0', '6', '*', ';', '4', '8', '†', '8', '¶', '6', '0', ')', ')', '8', '5', ';', '1', '‡', '(', ';', ':', '‡', '*', '8', '†', '8', '3', '(', '8', '8', ')', '5', '*', '†', ';', '4', '6', '(', ';', '8', '8', '*', '9', '6', '*', '?', ';', '8', ')', '*', '‡', '(', ';', '4', '8', '5', ')', ';', '5', '*', '†', '2', ':', '*', '‡', '(', ';', '4', '9', '5', '6', '*', '2', '(', '5', '*', '—', '4', ')', '8', '¶', '8', '*', ';', '4', '0', '6', '9', '2', '8', '5', ')', ';', ')', '6', '†', '8', ')', '4', '‡', '‡', ';', '1', '(', '‡', '9', ';', '4', '8', '0', '8', '1', ';', '8', ':', '8', '‡', '1', ';', '4', '8', '†', '8', '5', ';', '4', ')', '4', '8', '5', '†', '5', '2', '8', '8', '0', '6', '*', '8', '1', '(', '‡', '9', ';', '4', '8', ';', '(', '8', '8', ';', '4', '(', '‡', '?', '3', '4', ';', '4', '8', ')', '4', '‡', ';', '1', '6', '1', ';', ':', '1', '8', '8', ';', '‡', '?', ';']\n",
            "203\n"
          ]
        }
      ]
    },
    {
      "cell_type": "markdown",
      "source": [
        "The initial purpose is to define each symbol that composes the cryptogram, together with its frequency. \n",
        "The following function prints a dictionary where the keys are the symbols and their recurrence are the values. "
      ],
      "metadata": {
        "id": "yTMeHMEqOaRw"
      }
    },
    {
      "cell_type": "code",
      "source": [
        "def Recurrence(ciphertext):\n",
        "  DictFreq = {}\n",
        "  for symbol in ciphertext:\n",
        "    if symbol in DictFreq:\n",
        "        DictFreq[symbol] += 1\n",
        "    else:\n",
        "        DictFreq[symbol] = 1\n",
        "  return DictFreq\n",
        "\n",
        "DictCiphertext = Recurrence(PoeCryptogram)\n",
        "print(DictCiphertext)"
      ],
      "metadata": {
        "colab": {
          "base_uri": "https://localhost:8080/"
        },
        "id": "vVb2Y33XOAG0",
        "outputId": "f84255be-6f8b-406b-9842-0e3bb5b1ce80"
      },
      "execution_count": 77,
      "outputs": [
        {
          "output_type": "stream",
          "name": "stdout",
          "text": [
            "{'5': 12, '3': 4, '‡': 16, '†': 8, '0': 6, ')': 16, '6': 11, '*': 13, ';': 26, '4': 19, '8': 33, '2': 5, '.': 1, '¶': 2, '1': 8, '(': 10, ':': 4, '9': 5, '?': 3, '—': 1}\n"
          ]
        }
      ]
    },
    {
      "cell_type": "markdown",
      "source": [
        "Starting with the Recurrence dictionary, it is possible to calculate the frequency. "
      ],
      "metadata": {
        "id": "WiseDjubrBsC"
      }
    },
    {
      "cell_type": "code",
      "source": [
        "def Frequency(dictionary):\n",
        "  totFreq = sum(dictionary.values())\n",
        "  for symbol in dictionary:\n",
        "    dictionary[symbol] = float(dictionary[symbol]/totFreq)\n",
        "  return dictionary\n",
        "print(Frequency(DictCiphertext))\n",
        "\n",
        "freqPoe = Frequency(DictCiphertext)"
      ],
      "metadata": {
        "colab": {
          "base_uri": "https://localhost:8080/"
        },
        "id": "d2Pc0tV-ghdH",
        "outputId": "8f1c0a91-304e-431d-a98d-bd0a1d3d0477"
      },
      "execution_count": 78,
      "outputs": [
        {
          "output_type": "stream",
          "name": "stdout",
          "text": [
            "{'5': 0.059113300492610835, '3': 0.019704433497536946, '‡': 0.07881773399014778, '†': 0.03940886699507389, '0': 0.029556650246305417, ')': 0.07881773399014778, '6': 0.054187192118226604, '*': 0.06403940886699508, ';': 0.12807881773399016, '4': 0.09359605911330049, '8': 0.1625615763546798, '2': 0.024630541871921183, '.': 0.0049261083743842365, '¶': 0.009852216748768473, '1': 0.03940886699507389, '(': 0.04926108374384237, ':': 0.019704433497536946, '9': 0.024630541871921183, '?': 0.014778325123152709, '—': 0.0049261083743842365}\n"
          ]
        }
      ]
    },
    {
      "cell_type": "markdown",
      "source": [
        "To complete, the symbols are organized visualizing them from the most frequent to the less recurrent ones. "
      ],
      "metadata": {
        "id": "CPVlgu__vHnM"
      }
    },
    {
      "cell_type": "code",
      "source": [
        "def orderFreq(dictionary):\n",
        "  return dict(sorted(dictionary.items(), key=lambda item: item[1], reverse=True))\n",
        "freqCryptogram = orderFreq(freqPoe)\n",
        "\n",
        "for (symbol,freq) in freqCryptogram.items():\n",
        "  print(\"{:<2}: {:1.4f}\".format(symbol,freq))"
      ],
      "metadata": {
        "colab": {
          "base_uri": "https://localhost:8080/"
        },
        "id": "VSLFY4m8P14V",
        "outputId": "8279ba8c-6c20-4785-dd22-6c042018c4db"
      },
      "execution_count": 79,
      "outputs": [
        {
          "output_type": "stream",
          "name": "stdout",
          "text": [
            "8 : 0.1626\n",
            "; : 0.1281\n",
            "4 : 0.0936\n",
            "‡ : 0.0788\n",
            ") : 0.0788\n",
            "* : 0.0640\n",
            "5 : 0.0591\n",
            "6 : 0.0542\n",
            "( : 0.0493\n",
            "† : 0.0394\n",
            "1 : 0.0394\n",
            "0 : 0.0296\n",
            "2 : 0.0246\n",
            "9 : 0.0246\n",
            "3 : 0.0197\n",
            ": : 0.0197\n",
            "? : 0.0148\n",
            "¶ : 0.0099\n",
            ". : 0.0049\n",
            "— : 0.0049\n"
          ]
        }
      ]
    },
    {
      "cell_type": "markdown",
      "source": [
        "####*Corpora frequency analysis*  \n",
        "The usage of a corpus is essential to decrypt following the same path of Legrand.  \n",
        "Two corpora have been created to compare if letters frequencies changed during the centuries: the first one reflects the most frequent letters of the 19th century - Poe's time, while the second one depicts the contemporary frequencies of English letters.  \n",
        "The decryption will be made using both frequency analyses, one at the time.  \n"
      ],
      "metadata": {
        "id": "obDtKH3rH7g7"
      }
    },
    {
      "cell_type": "markdown",
      "source": [
        " 1. The first corpus has been created taking in consideration all the tales (retrieved from https://www.gutenberg.org/) written by the author Edgar Allan Poe, obviously with the exception of The Golg Bug. The texts have been transformed in lowercase and punctuation has been removed; then words have been split in letters in order to calculate their frequency. "
      ],
      "metadata": {
        "id": "bd8ShFG91s-P"
      }
    },
    {
      "cell_type": "code",
      "source": [
        "def noPunctuation(text):\n",
        "  noPunct = []\n",
        "  for word in text:\n",
        "    if word.isalnum():\n",
        "      noPunct.append(word)\n",
        "  return noPunct\n",
        "\n",
        "def noCAP(text):\n",
        "  min = text.lower()\n",
        "  return min"
      ],
      "metadata": {
        "id": "ZukqjYsfH-9j"
      },
      "execution_count": 80,
      "outputs": []
    },
    {
      "cell_type": "code",
      "source": [
        "with open(\"EAP_tales.txt\", mode=\"r\", encoding=\"UTF-8\") as EAP_tales: \n",
        "  tales = EAP_tales.read()\n",
        "  ncTales = noCAP(tales)\n",
        "  npTales = noPunctuation(ncTales)\n",
        "  rTales = Recurrence(npTales)\n",
        "  freqTales = Frequency(rTales)\n",
        "  freqPoesTime = orderFreq(freqTales)\n",
        "  for (symbol,freq) in freqPoesTime.items():\n",
        "    print(\"{:<2}: {:1.4f}\".format(symbol,freq)) #first 26 results are alphabet's letters"
      ],
      "metadata": {
        "colab": {
          "base_uri": "https://localhost:8080/"
        },
        "id": "rMVdYAJXcmwC",
        "outputId": "7ee584f9-24cf-4eaa-ed8e-20fea1c03ee8"
      },
      "execution_count": 81,
      "outputs": [
        {
          "output_type": "stream",
          "name": "stdout",
          "text": [
            "e : 0.1275\n",
            "t : 0.0942\n",
            "a : 0.0782\n",
            "o : 0.0752\n",
            "i : 0.0729\n",
            "n : 0.0701\n",
            "s : 0.0604\n",
            "h : 0.0590\n",
            "r : 0.0574\n",
            "d : 0.0416\n",
            "l : 0.0399\n",
            "u : 0.0294\n",
            "c : 0.0272\n",
            "m : 0.0265\n",
            "f : 0.0253\n",
            "w : 0.0206\n",
            "p : 0.0198\n",
            "y : 0.0192\n",
            "g : 0.0184\n",
            "b : 0.0156\n",
            "v : 0.0108\n",
            "k : 0.0050\n",
            "x : 0.0021\n",
            "q : 0.0012\n",
            "j : 0.0009\n",
            "z : 0.0007\n",
            "1 : 0.0001\n",
            "é : 0.0001\n",
            "0 : 0.0001\n",
            "2 : 0.0001\n",
            "8 : 0.0000\n",
            "3 : 0.0000\n",
            "ê : 0.0000\n",
            "5 : 0.0000\n",
            "è : 0.0000\n",
            "4 : 0.0000\n",
            "7 : 0.0000\n",
            "æ : 0.0000\n",
            "6 : 0.0000\n",
            "ö : 0.0000\n",
            "à : 0.0000\n",
            "9 : 0.0000\n",
            "â : 0.0000\n",
            "α : 0.0000\n",
            "ô : 0.0000\n",
            "œ : 0.0000\n",
            "υ : 0.0000\n",
            "ο : 0.0000\n",
            "ε : 0.0000\n",
            "ι : 0.0000\n",
            "λ : 0.0000\n",
            "σ : 0.0000\n",
            "τ : 0.0000\n",
            "ν : 0.0000\n",
            "ς : 0.0000\n",
            "π : 0.0000\n",
            "μ : 0.0000\n",
            "ρ : 0.0000\n",
            "ë : 0.0000\n",
            "ï : 0.0000\n",
            "ä : 0.0000\n",
            "ξ : 0.0000\n",
            "δ : 0.0000\n",
            "ῦ : 0.0000\n",
            "γ : 0.0000\n",
            "ω : 0.0000\n",
            "κ : 0.0000\n",
            "χ : 0.0000\n",
            "½ : 0.0000\n",
            "η : 0.0000\n",
            "ú : 0.0000\n",
            "φ : 0.0000\n",
            "î : 0.0000\n",
            "û : 0.0000\n",
            "ü : 0.0000\n",
            "ῆ : 0.0000\n",
            "ç : 0.0000\n"
          ]
        }
      ]
    },
    {
      "cell_type": "markdown",
      "source": [
        "2. Switching to nowadays letters frequencies, the following corpus has been created using COCA Corpus as a base, since it offers the list of the most frequent English words. Once that the Corpus of Contemporary American English has been downloaded (retrieved from www.wordfrequency.info), a .csv file has been created concatenating the column H \"Words\" of the third sheet \"WordForms\", together with column I \"WordFreq\". The .csv file is the starting point for the creation of letters' frequencies corpus."
      ],
      "metadata": {
        "id": "phMKNWqESaO8"
      }
    },
    {
      "cell_type": "code",
      "source": [
        "from csv import reader\n",
        "frequentEnglishWords = []\n",
        "with open(\"WF.csv\") as WF:\n",
        "  next(WF)\n",
        "  for row in WF:\n",
        "    frequentEnglishWords.append(row.split()[0])\n",
        "\n",
        "nop = noPunctuation(str(frequentEnglishWords))\n",
        "nocap = (noCAP(''.join(nop)))\n",
        "Rnop = Recurrence(nocap)\n",
        "FRnop = Frequency(Rnop)\n",
        "freqContemporary = orderFreq(FRnop)\n",
        "\n",
        "for (symbol,freq) in freqContemporary.items():\n",
        "  print(\"{:<2}: {:1.4f}\".format(symbol,freq))"
      ],
      "metadata": {
        "colab": {
          "base_uri": "https://localhost:8080/"
        },
        "id": "YE19_0uZvs4T",
        "outputId": "4d15e5f7-542d-4ce7-8b9c-c6e060596394"
      },
      "execution_count": 82,
      "outputs": [
        {
          "output_type": "stream",
          "name": "stdout",
          "text": [
            "e : 0.1257\n",
            "s : 0.0993\n",
            "i : 0.0844\n",
            "r : 0.0734\n",
            "t : 0.0729\n",
            "n : 0.0727\n",
            "a : 0.0697\n",
            "o : 0.0591\n",
            "l : 0.0440\n",
            "c : 0.0433\n",
            "d : 0.0406\n",
            "g : 0.0317\n",
            "p : 0.0304\n",
            "u : 0.0284\n",
            "m : 0.0246\n",
            "h : 0.0217\n",
            "f : 0.0147\n",
            "b : 0.0141\n",
            "v : 0.0122\n",
            "y : 0.0111\n",
            "w : 0.0096\n",
            "k : 0.0088\n",
            "x : 0.0030\n",
            "j : 0.0016\n",
            "q : 0.0015\n",
            "z : 0.0014\n"
          ]
        }
      ]
    },
    {
      "cell_type": "markdown",
      "source": [
        "####*Cracking the cryptogram in a computationl way*  \n",
        "Once obtained these three different frequency analyses, it is time to decrypt Legrand's cryptogram in a computational way, substituing the most frequent symbol with the corresponding most frequent letter of Poe's time (repeating the procedure for every symbol/English letter) and then doing it again, but with contemporary frequencies."
      ],
      "metadata": {
        "id": "c7bp2vdf9O24"
      }
    },
    {
      "cell_type": "code",
      "source": [
        "LfreqCryptogram = list(freqCryptogram) #lists have an index, differently from dictionaries\n",
        "LfreqPoesTime = list(freqPoesTime)\n",
        "LfreqContemporary = list(freqContemporary)\n",
        "\n",
        "print(len(LfreqCryptogram)) #since the cryptogram has 20 unique symbols, only the first 20 letters of both corpora are needed for the substitution, i.e. the decryption\n",
        "\n",
        "dictPoesTime = dict(zip(LfreqCryptogram, LfreqPoesTime[0:20])) \n",
        "print(dictPoesTime)\n",
        "\n",
        "dictContemporary = dict(zip(LfreqCryptogram, LfreqContemporary[0:20])) \n",
        "print(dictContemporary)\n",
        "\n",
        "decryptionPoesTime = []\n",
        "for i in PoeCryptogram:\n",
        "  for key, value in dictPoesTime.items():\n",
        "    if key == i:\n",
        "      decryptionPoesTime.append(value)\n",
        "print(decryptionPoesTime)\n",
        "\n",
        "decryptionContemporary = []\n",
        "for i in PoeCryptogram:\n",
        "  for key, value in dictContemporary.items():\n",
        "    if key == i:\n",
        "      decryptionContemporary.append(value)\n",
        "print(decryptionContemporary)"
      ],
      "metadata": {
        "colab": {
          "base_uri": "https://localhost:8080/"
        },
        "id": "NdbzGt7mu2zo",
        "outputId": "03212cf0-e4dc-477c-8a23-fd3712c055a5"
      },
      "execution_count": 83,
      "outputs": [
        {
          "output_type": "stream",
          "name": "stdout",
          "text": [
            "20\n",
            "{'8': 'e', ';': 't', '4': 'a', '‡': 'o', ')': 'i', '*': 'n', '5': 's', '6': 'h', '(': 'r', '†': 'd', '1': 'l', '0': 'u', '2': 'c', '9': 'm', '3': 'f', ':': 'w', '?': 'p', '¶': 'y', '.': 'g', '—': 'b'}\n",
            "{'8': 'e', ';': 's', '4': 'i', '‡': 'r', ')': 't', '*': 'n', '5': 'a', '6': 'o', '(': 'l', '†': 'c', '1': 'd', '0': 'g', '2': 'p', '9': 'u', '3': 'm', ':': 'h', '?': 'f', '¶': 'b', '.': 'v', '—': 'y'}\n",
            "['s', 'f', 'o', 'o', 'd', 'f', 'u', 's', 'i', 'i', 'h', 'n', 't', 'a', 'e', 'c', 'h', 'i', 'a', 'o', 'g', 'i', 'a', 'o', 'i', 't', 'e', 'u', 'h', 'n', 't', 'a', 'e', 'd', 'e', 'y', 'h', 'u', 'i', 'i', 'e', 's', 't', 'l', 'o', 'r', 't', 'w', 'o', 'n', 'e', 'd', 'e', 'f', 'r', 'e', 'e', 'i', 's', 'n', 'd', 't', 'a', 'h', 'r', 't', 'e', 'e', 'n', 'm', 'h', 'n', 'p', 't', 'e', 'i', 'n', 'o', 'r', 't', 'a', 'e', 's', 'i', 't', 's', 'n', 'd', 'c', 'w', 'n', 'o', 'r', 't', 'a', 'm', 's', 'h', 'n', 'c', 'r', 's', 'n', 'b', 'a', 'i', 'e', 'y', 'e', 'n', 't', 'a', 'u', 'h', 'm', 'c', 'e', 's', 'i', 't', 'i', 'h', 'd', 'e', 'i', 'a', 'o', 'o', 't', 'l', 'r', 'o', 'm', 't', 'a', 'e', 'u', 'e', 'l', 't', 'e', 'w', 'e', 'o', 'l', 't', 'a', 'e', 'd', 'e', 's', 't', 'a', 'i', 'a', 'e', 's', 'd', 's', 'c', 'e', 'e', 'u', 'h', 'n', 'e', 'l', 'r', 'o', 'm', 't', 'a', 'e', 't', 'r', 'e', 'e', 't', 'a', 'r', 'o', 'p', 'f', 'a', 't', 'a', 'e', 'i', 'a', 'o', 't', 'l', 'h', 'l', 't', 'w', 'l', 'e', 'e', 't', 'o', 'p', 't']\n",
            "['a', 'm', 'r', 'r', 'c', 'm', 'g', 'a', 't', 't', 'o', 'n', 's', 'i', 'e', 'p', 'o', 't', 'i', 'r', 'v', 't', 'i', 'r', 't', 's', 'e', 'g', 'o', 'n', 's', 'i', 'e', 'c', 'e', 'b', 'o', 'g', 't', 't', 'e', 'a', 's', 'd', 'r', 'l', 's', 'h', 'r', 'n', 'e', 'c', 'e', 'm', 'l', 'e', 'e', 't', 'a', 'n', 'c', 's', 'i', 'o', 'l', 's', 'e', 'e', 'n', 'u', 'o', 'n', 'f', 's', 'e', 't', 'n', 'r', 'l', 's', 'i', 'e', 'a', 't', 's', 'a', 'n', 'c', 'p', 'h', 'n', 'r', 'l', 's', 'i', 'u', 'a', 'o', 'n', 'p', 'l', 'a', 'n', 'y', 'i', 't', 'e', 'b', 'e', 'n', 's', 'i', 'g', 'o', 'u', 'p', 'e', 'a', 't', 's', 't', 'o', 'c', 'e', 't', 'i', 'r', 'r', 's', 'd', 'l', 'r', 'u', 's', 'i', 'e', 'g', 'e', 'd', 's', 'e', 'h', 'e', 'r', 'd', 's', 'i', 'e', 'c', 'e', 'a', 's', 'i', 't', 'i', 'e', 'a', 'c', 'a', 'p', 'e', 'e', 'g', 'o', 'n', 'e', 'd', 'l', 'r', 'u', 's', 'i', 'e', 's', 'l', 'e', 'e', 's', 'i', 'l', 'r', 'f', 'm', 'i', 's', 'i', 'e', 't', 'i', 'r', 's', 'd', 'o', 'd', 's', 'h', 'd', 'e', 'e', 's', 'r', 'f', 's']\n"
          ]
        }
      ]
    },
    {
      "cell_type": "markdown",
      "source": [
        "The decryption based on the letters' frequency at Poe's time is the following: (the original cryptogram is printed before to compare it with the solution; afterwards the real solution of the cryptogram is proposed)"
      ],
      "metadata": {
        "id": "TlpFKRJR4MGi"
      }
    },
    {
      "cell_type": "code",
      "source": [
        "decryption = \"A good glass in the bishop’s hostel in the devil’s seat forty-one degrees and thirteen minutes north-east and by north main branch seventh limb east side shoot from the left eye of the death’s-head a bee-line from the tree trough the shot fifty feet out.\"\n",
        "print(PoeCiphertext)\n",
        "print(''.join(decryptionPoesTime))\n",
        "print(\"The decryption proposed by Legrand is the following: {}\".format(decryption))"
      ],
      "metadata": {
        "colab": {
          "base_uri": "https://localhost:8080/"
        },
        "id": "cbh8n9hH4Uax",
        "outputId": "1d53fa06-5dc1-44c0-b853-4b4a3b193879"
      },
      "execution_count": 84,
      "outputs": [
        {
          "output_type": "stream",
          "name": "stdout",
          "text": [
            "53‡‡†305))6*;4826)4‡.)4‡);806*;48†8¶60))85;1‡(;:‡*8†83(88)5*†;46(;88*96*?;8)*‡(;485);5*†2:*‡(;4956*2(5*—4)8¶8*;4069285);)6†8)4‡‡;1(‡9;48081;8:8‡1;48†85;4)485†528806*81(‡9;48;(88;4(‡?34;48)4‡;161;:188;‡?;\n",
            "sfoodfusiihntaechiaogiaoiteuhntaedeyhuiiestlortwonedefreeisndtahrteenmhnpteinortaesitsndcwnortamshncrsnbaieyentauhmcesitihdeiaootlromtaeuelteweoltaedestaiaesdsceeuhnelromtaetreetaropfataeiaotlhltwleetopt\n",
            "The decryption proposed by Legrand is the following: A good glass in the bishop’s hostel in the devil’s seat forty-one degrees and thirteen minutes north-east and by north main branch seventh limb east side shoot from the left eye of the death’s-head a bee-line from the tree trough the shot fifty feet out.\n"
          ]
        }
      ]
    },
    {
      "cell_type": "markdown",
      "source": [
        "The decryption based on the contemporary letters' frequency is the following: (the original cryptogram is printed before to compare it with the solution; afterwards the real solution of the cryptogram is proposed)"
      ],
      "metadata": {
        "id": "c0yrkes24Uqe"
      }
    },
    {
      "cell_type": "code",
      "source": [
        "print(PoeCiphertext)\n",
        "print(''.join(decryptionContemporary))\n",
        "print(\"The decryption proposed by Legrand is the following: {}\".format(decryption))"
      ],
      "metadata": {
        "colab": {
          "base_uri": "https://localhost:8080/"
        },
        "id": "st-dKBH_4YVW",
        "outputId": "6bd4dec5-5624-4d5d-9369-fe7fd2ce91fe"
      },
      "execution_count": 85,
      "outputs": [
        {
          "output_type": "stream",
          "name": "stdout",
          "text": [
            "53‡‡†305))6*;4826)4‡.)4‡);806*;48†8¶60))85;1‡(;:‡*8†83(88)5*†;46(;88*96*?;8)*‡(;485);5*†2:*‡(;4956*2(5*—4)8¶8*;4069285);)6†8)4‡‡;1(‡9;48081;8:8‡1;48†85;4)485†528806*81(‡9;48;(88;4(‡?34;48)4‡;161;:188;‡?;\n",
            "amrrcmgattonsiepotirvtirtsegonsiecebogtteasdrlshrnecemleetancsiolseenuonfsetnrlsieatsancphnrlsiuaonplanyitebensigoupeatstocetirrsdlrusiegedseherdsieceasitieacapeegonedlrusiesleesilrfmisietirsdodshdeesrfs\n",
            "The decryption proposed by Legrand is the following: A good glass in the bishop’s hostel in the devil’s seat forty-one degrees and thirteen minutes north-east and by north main branch seventh limb east side shoot from the left eye of the death’s-head a bee-line from the tree trough the shot fifty feet out.\n"
          ]
        }
      ]
    },
    {
      "cell_type": "markdown",
      "source": [
        "An analysis of the results and considerations about them will be presented in the third chapter's second paragraph of the above-mentioned Bachelor thesis."
      ],
      "metadata": {
        "id": "J_1BK-OG3VAP"
      }
    },
    {
      "cell_type": "markdown",
      "source": [
        "####*Encryption*    \n",
        "Even the opposite process can be accomplished in a computational way, i.e. the encryption.  "
      ],
      "metadata": {
        "id": "ZI6jaN74D3eB"
      }
    },
    {
      "cell_type": "markdown",
      "source": [
        "Following modern developments, the kind of encryption proposed by Edgar Allan Poe appears undoubtedly obsolete. Consequently, libraries like *cryptography* allow the creation of ciphertexts based on the AES Algorithm, which is not unbreakable, but it still has an higher level of security than Poe's.  \n",
        "The code that follows has been retrieved from https://www.thepythoncode.com/article/encrypt-decrypt-files-symmetric-python and has been adapted to Legrand's cryptogram."
      ],
      "metadata": {
        "id": "ZX-OC4r916uW"
      }
    },
    {
      "cell_type": "code",
      "source": [
        "!pip install cryptography\n",
        "from cryptography.fernet import Fernet"
      ],
      "metadata": {
        "colab": {
          "base_uri": "https://localhost:8080/"
        },
        "id": "KrOeEHCJD4B5",
        "outputId": "e26325a1-4e0f-4312-87d5-6df6807142e8"
      },
      "execution_count": 86,
      "outputs": [
        {
          "output_type": "stream",
          "name": "stdout",
          "text": [
            "Looking in indexes: https://pypi.org/simple, https://us-python.pkg.dev/colab-wheels/public/simple/\n",
            "Requirement already satisfied: cryptography in /usr/local/lib/python3.7/dist-packages (38.0.1)\n",
            "Requirement already satisfied: cffi>=1.12 in /usr/local/lib/python3.7/dist-packages (from cryptography) (1.15.1)\n",
            "Requirement already satisfied: pycparser in /usr/local/lib/python3.7/dist-packages (from cffi>=1.12->cryptography) (2.21)\n"
          ]
        }
      ]
    },
    {
      "cell_type": "code",
      "source": [
        "key = Fernet.generate_key()\n",
        "with open(\"AES_key.txt\", \"wb\") as key_file:\n",
        "  key_file.write(key)\n",
        "\n",
        "message = decryption.encode()\n",
        "f = Fernet(key)\n",
        "encrypted = f.encrypt(message)\n",
        "print(encrypted)"
      ],
      "metadata": {
        "colab": {
          "base_uri": "https://localhost:8080/"
        },
        "id": "paCV3nY8QVRi",
        "outputId": "5e25a6e7-0cf2-4c54-a4f2-09870b18cc0a"
      },
      "execution_count": 87,
      "outputs": [
        {
          "output_type": "stream",
          "name": "stdout",
          "text": [
            "b'gAAAAABjHzJXl_pTeI91Xpf7kENpgeSR_Jfb0plpTabGilxfqL2i8COr42e4RElmvho160F6CTPS49VbCACPjSBnKeuGaHmbeREv8T1QpA0K-vb_aZl9NRwcub-uOVJLlh8qThE7Foq7Mk-juxXW27pAsnf9Z8Bl_0eUmzapcykVRwM6WtjBN55PTjk6WPJcBYt7z9EgaZG6BsjIu0piUvQX0e9Va5r7Xv4WZNyv4w6H68gg4U3_lw1ieYjwn73nua0mhIvAWU7wycBzBrS1TT25k0xe58TeSweHn36rVJfB8a41lZbM0vG0v9IPPOB-8wiy4WTE-KZgHOOgrsu5Mqo3evHKihkYUYFImoTM-guWIMXz9jQjTh0p-wzZrAxhycXZxU3XVQ6hJoja62TWp6yEfAvht1gFni7upSf5iK7fHRHanbrL76g='\n"
          ]
        }
      ]
    },
    {
      "cell_type": "markdown",
      "source": [
        "Another way to encrypt the message using more modern technologies is generating both a public and a private key through the library *rsa*. In this case only the former is necessary since the latter allows the decryption.  \n",
        "The code has been retrieved and adapted from https://stuvel.eu/python-rsa-doc/usage.html#generating-keys"
      ],
      "metadata": {
        "id": "4yomHbs6MQpR"
      }
    },
    {
      "cell_type": "code",
      "source": [
        "import rsa\n",
        "(pubkey, privkey) = rsa.newkeys(2162) #\"RSA can only encrypt messages that are smaller than the key. A couple of bytes are lost on random padding, and the rest is available for the message itself.\"\n",
        "keys = (pubkey, privkey)\n",
        "\n",
        "with open(\"rsa.text\", 'w+') as fp:\n",
        "  fp.write(pubkey.save_pkcs1().decode())\n",
        "  fp.write(privkey.save_pkcs1().decode())\n",
        "\n",
        "message = decryption.encode('utf8')\n",
        "crypto = rsa.encrypt(message, pubkey)\n",
        "print(crypto)"
      ],
      "metadata": {
        "colab": {
          "base_uri": "https://localhost:8080/"
        },
        "id": "MU45MlbUZ459",
        "outputId": "5b7f61af-f9ab-4bb6-a5e9-f7cb87252c17"
      },
      "execution_count": 88,
      "outputs": [
        {
          "output_type": "stream",
          "name": "stdout",
          "text": [
            "b\"\\x02\\x13\\xc7\\xc2\\xcf\\x81{\\xd8u\\xff\\x08\\xac(\\xe0Y\\xea\\x19\\xde>e\\xbd\\xb3\\x9c\\xbe\\x96X\\x1c\\x18p\\r!\\x9a\\xe1\\x84{Z\\xb1z)\\xb9E\\x0e&\\xd6Yi>k-&\\xd7iQ\\x8f\\tW\\x8fV$x\\xb1\\xab+\\x88\\xcc\\xd0\\xdeH\\x8b\\xfeO^\\x18\\x9b\\xeeu{\\xfd\\xbb\\xca\\x15\\x9f\\xa7O\\xd9\\x8dF\\xcb\\xa4%\\x03\\xe3m\\xe3\\xfb\\xabz\\xa8\\x92\\xee\\xf2\\x7f\\xa0\\xc8?\\xc2\\x03\\xe9\\xb4K\\x1e1dg\\x07*\\xfb\\xb5VqM\\xcc\\xa9\\xf2\\xa8\\xb4+AN\\x99\\xac\\x01aD\\x19\\xd1X\\xc9\\xc4\\xb5m\\xa4\\xfc(%\\x07\\x1f\\xaf\\x12;\\xa1\\x8fA\\xf9\\xc7\\xaf\\xc5\\xfc?6\\xcb\\xcf<\\xa6\\xabU,J\\x15\\xbf\\xbe\\xfc\\xd1M'\\xa9\\xda\\xb5\\x1a\\x96\\xbc\\xa8\\xe5\\x05O\\x8c_\\x16\\xc9\\xee\\x9b\\x01i\\xbd1z\\xb97.m\\xbcH\\xa1Dx\\xb4\\xbe\\xd0\\xcd\\xad\\xbf.~X\\xe3\\xda\\x08\\xa7/\\x8b\\x89\\xed!\\xe8A\\x17w\\x99\\x07\\x82\\xdbb\\x13a\\x06\\xee3b\\xf3\\x95\\x86|\\x1b\\x82\\x98\\xd4\\xa2\\x7fED\\xe4C\\xc1\\x0e\\x9e\\xcb>\\xd3T\\x15W\\xb6\\xab\\x95\\x97\\xb3`\\x8f\\x98\\x9b\\x8d\"\n"
          ]
        }
      ]
    }
  ]
}