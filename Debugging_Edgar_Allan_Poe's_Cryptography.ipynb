{
  "nbformat": 4,
  "nbformat_minor": 0,
  "metadata": {
    "colab": {
      "provenance": [],
      "collapsed_sections": []
    },
    "kernelspec": {
      "name": "python3",
      "display_name": "Python 3"
    },
    "language_info": {
      "name": "python"
    }
  },
  "cells": [
    {
      "cell_type": "markdown",
      "source": [
        "# **Cryptography - Edgar Allan Poe's The Gold Bug**\n",
        "\n",
        "###The following script has the aim to reproduce in a computational way the cryptogram around which Edgar Allan Poe's tale The Gold Bug resolves. It belongs to the third chapter of the Rebecca Guolo's Bachelor thesis \"Debugging Edgar Allan Poe's cryptography\"."
      ],
      "metadata": {
        "id": "Q1aONRc6tt_H"
      }
    },
    {
      "cell_type": "markdown",
      "source": [
        "####*Frequency analysis of Poe's cryptogram.*  \n",
        "Firstly, it is shown the cryptogram found by Legrand, rendered as a list in order to carry on further investigations. Moreover, it is printed the number of the symbols that make it up. "
      ],
      "metadata": {
        "id": "s3LRJQwM0ovX"
      }
    },
    {
      "cell_type": "code",
      "source": [
        "PoeCiphertext = \"53‡‡†305))6*;4826)4‡.)4‡);806*;48†8¶60))85;1‡(;:‡*8†83(88)5*†;46(;88*96*?;8)*‡(;485);5*†2:*‡(;4956*2(5*—4)8¶8*;4069285);)6†8)4‡‡;1(‡9;48081;8:8‡1;48†85;4)485†528806*81(‡9;48;(88;4(‡?34;48)4‡;161;:188;‡?;\"\n",
        "print(PoeCiphertext)\n",
        "\n",
        "PoeCryptogram = list(PoeCiphertext)\n",
        "print(PoeCryptogram)\n",
        "\n",
        "print(len(PoeCryptogram))"
      ],
      "metadata": {
        "colab": {
          "base_uri": "https://localhost:8080/"
        },
        "id": "13HPCJWXvIAo",
        "outputId": "be5f3100-2e81-44ed-e16e-9a840657c672"
      },
      "execution_count": 84,
      "outputs": [
        {
          "output_type": "stream",
          "name": "stdout",
          "text": [
            "53‡‡†305))6*;4826)4‡.)4‡);806*;48†8¶60))85;1‡(;:‡*8†83(88)5*†;46(;88*96*?;8)*‡(;485);5*†2:*‡(;4956*2(5*—4)8¶8*;4069285);)6†8)4‡‡;1(‡9;48081;8:8‡1;48†85;4)485†528806*81(‡9;48;(88;4(‡?34;48)4‡;161;:188;‡?;\n",
            "['5', '3', '‡', '‡', '†', '3', '0', '5', ')', ')', '6', '*', ';', '4', '8', '2', '6', ')', '4', '‡', '.', ')', '4', '‡', ')', ';', '8', '0', '6', '*', ';', '4', '8', '†', '8', '¶', '6', '0', ')', ')', '8', '5', ';', '1', '‡', '(', ';', ':', '‡', '*', '8', '†', '8', '3', '(', '8', '8', ')', '5', '*', '†', ';', '4', '6', '(', ';', '8', '8', '*', '9', '6', '*', '?', ';', '8', ')', '*', '‡', '(', ';', '4', '8', '5', ')', ';', '5', '*', '†', '2', ':', '*', '‡', '(', ';', '4', '9', '5', '6', '*', '2', '(', '5', '*', '—', '4', ')', '8', '¶', '8', '*', ';', '4', '0', '6', '9', '2', '8', '5', ')', ';', ')', '6', '†', '8', ')', '4', '‡', '‡', ';', '1', '(', '‡', '9', ';', '4', '8', '0', '8', '1', ';', '8', ':', '8', '‡', '1', ';', '4', '8', '†', '8', '5', ';', '4', ')', '4', '8', '5', '†', '5', '2', '8', '8', '0', '6', '*', '8', '1', '(', '‡', '9', ';', '4', '8', ';', '(', '8', '8', ';', '4', '(', '‡', '?', '3', '4', ';', '4', '8', ')', '4', '‡', ';', '1', '6', '1', ';', ':', '1', '8', '8', ';', '‡', '?', ';']\n",
            "203\n"
          ]
        }
      ]
    },
    {
      "cell_type": "markdown",
      "source": [
        "The initial purpose is to define each symbol that composes the cryptogram, together with its frequency. \n",
        "The following function prints a dictionary where the keys are the symbols and their recurrence are the values. "
      ],
      "metadata": {
        "id": "yTMeHMEqOaRw"
      }
    },
    {
      "cell_type": "code",
      "source": [
        "def Recurrence(ciphertext):\n",
        "  DictFreq = {}\n",
        "  for symbol in ciphertext:\n",
        "    if symbol in DictFreq:\n",
        "        DictFreq[symbol] += 1\n",
        "    else:\n",
        "        DictFreq[symbol] = 1\n",
        "  return DictFreq\n",
        "\n",
        "DictCiphertext = Recurrence(PoeCryptogram)\n",
        "print(DictCiphertext)"
      ],
      "metadata": {
        "colab": {
          "base_uri": "https://localhost:8080/"
        },
        "id": "vVb2Y33XOAG0",
        "outputId": "90438c72-f9a7-42e5-faee-c7e617fea745"
      },
      "execution_count": 85,
      "outputs": [
        {
          "output_type": "stream",
          "name": "stdout",
          "text": [
            "{'5': 12, '3': 4, '‡': 16, '†': 8, '0': 6, ')': 16, '6': 11, '*': 13, ';': 26, '4': 19, '8': 33, '2': 5, '.': 1, '¶': 2, '1': 8, '(': 10, ':': 4, '9': 5, '?': 3, '—': 1}\n"
          ]
        }
      ]
    },
    {
      "cell_type": "markdown",
      "source": [
        "Starting with the Recurrence dictionary, it is possible to calculate the frequency. "
      ],
      "metadata": {
        "id": "WiseDjubrBsC"
      }
    },
    {
      "cell_type": "code",
      "source": [
        "def Frequency(dictionary):\n",
        "  totFreq = sum(dictionary.values())\n",
        "  for symbol in dictionary:\n",
        "    dictionary[symbol] = float(dictionary[symbol]/totFreq)\n",
        "  return dictionary\n",
        "print(Frequency(DictCiphertext))\n",
        "\n",
        "freqPoe = Frequency(DictCiphertext)"
      ],
      "metadata": {
        "colab": {
          "base_uri": "https://localhost:8080/"
        },
        "id": "d2Pc0tV-ghdH",
        "outputId": "4406c410-ed3e-4c68-c1ce-90bc66d71594"
      },
      "execution_count": 86,
      "outputs": [
        {
          "output_type": "stream",
          "name": "stdout",
          "text": [
            "{'5': 0.059113300492610835, '3': 0.019704433497536946, '‡': 0.07881773399014778, '†': 0.03940886699507389, '0': 0.029556650246305417, ')': 0.07881773399014778, '6': 0.054187192118226604, '*': 0.06403940886699508, ';': 0.12807881773399016, '4': 0.09359605911330049, '8': 0.1625615763546798, '2': 0.024630541871921183, '.': 0.0049261083743842365, '¶': 0.009852216748768473, '1': 0.03940886699507389, '(': 0.04926108374384237, ':': 0.019704433497536946, '9': 0.024630541871921183, '?': 0.014778325123152709, '—': 0.0049261083743842365}\n"
          ]
        }
      ]
    },
    {
      "cell_type": "markdown",
      "source": [
        "To complete, the symbols are organized visualizing them from the most frequent to the less recurrent ones. "
      ],
      "metadata": {
        "id": "CPVlgu__vHnM"
      }
    },
    {
      "cell_type": "code",
      "source": [
        "def orderFreq(dictionary):\n",
        "  return dict(sorted(dictionary.items(), key=lambda item: item[1], reverse=True))\n",
        "freqCryptogram = orderFreq(freqPoe)\n",
        "\n",
        "for (symbol,freq) in freqCryptogram.items():\n",
        "  print(\"{:<2}: {:1.4f}\".format(symbol,freq))"
      ],
      "metadata": {
        "colab": {
          "base_uri": "https://localhost:8080/"
        },
        "id": "VSLFY4m8P14V",
        "outputId": "354abfe0-b93e-42d6-c2f6-438da930ff7c"
      },
      "execution_count": 87,
      "outputs": [
        {
          "output_type": "stream",
          "name": "stdout",
          "text": [
            "8 : 0.1626\n",
            "; : 0.1281\n",
            "4 : 0.0936\n",
            "‡ : 0.0788\n",
            ") : 0.0788\n",
            "* : 0.0640\n",
            "5 : 0.0591\n",
            "6 : 0.0542\n",
            "( : 0.0493\n",
            "† : 0.0394\n",
            "1 : 0.0394\n",
            "0 : 0.0296\n",
            "2 : 0.0246\n",
            "9 : 0.0246\n",
            "3 : 0.0197\n",
            ": : 0.0197\n",
            "? : 0.0148\n",
            "¶ : 0.0099\n",
            ". : 0.0049\n",
            "— : 0.0049\n"
          ]
        }
      ]
    },
    {
      "cell_type": "markdown",
      "source": [
        "From the output it is inferable that five couples of symbols have the same frequency (like '3' and ':'). It is necessary to get all the possible 32 ordered sequences (2^5=32) because, according to which symbol of the couple is chosen as first in the substitution, a different symbol-letter mapping will happen, changing the result of the decryption. "
      ],
      "metadata": {
        "id": "Y40tfpq5Rchh"
      }
    },
    {
      "cell_type": "code",
      "source": [
        "new_dict = {}\n",
        "for (symbol,freq) in freqCryptogram.items():\n",
        "  if freq not in new_dict:\n",
        "    new_dict[freq] = []  \n",
        "  new_dict[freq].append(symbol)  \n",
        "\n",
        "ordFreqList = [] #ordered frequency list\n",
        "for freq in sorted(new_dict, reverse=True):\n",
        "  print(\"{:1.4f}: {}\".format(freq,new_dict[freq]))\n",
        "  ordFreqList.append(freq)\n",
        "\n",
        "print(ordFreqList)"
      ],
      "metadata": {
        "colab": {
          "base_uri": "https://localhost:8080/"
        },
        "id": "tTZdV2e9q552",
        "outputId": "fe5ffc94-e48b-4b74-9b7c-992df64928b0"
      },
      "execution_count": 88,
      "outputs": [
        {
          "output_type": "stream",
          "name": "stdout",
          "text": [
            "0.1626: ['8']\n",
            "0.1281: [';']\n",
            "0.0936: ['4']\n",
            "0.0788: ['‡', ')']\n",
            "0.0640: ['*']\n",
            "0.0591: ['5']\n",
            "0.0542: ['6']\n",
            "0.0493: ['(']\n",
            "0.0394: ['†', '1']\n",
            "0.0296: ['0']\n",
            "0.0246: ['2', '9']\n",
            "0.0197: ['3', ':']\n",
            "0.0148: ['?']\n",
            "0.0099: ['¶']\n",
            "0.0049: ['.', '—']\n",
            "[0.16256157635467983, 0.12807881773399019, 0.0935960591133005, 0.0788177339901478, 0.06403940886699509, 0.05911330049261084, 0.05418719211822661, 0.049261083743842374, 0.0394088669950739, 0.02955665024630542, 0.024630541871921187, 0.01970443349753695, 0.01477832512315271, 0.009852216748768475, 0.004926108374384237]\n"
          ]
        }
      ]
    },
    {
      "cell_type": "code",
      "source": [
        "#recursive function to generate all the possible sequences\n",
        "def printRec(lista, new_dict, sequence, index, all_permutations):\n",
        "  if index >= len(lista):\n",
        "    all_permutations.append(sequence)\n",
        "  else:\n",
        "    if len(new_dict[lista[index]])==1:\n",
        "      sequence = sequence+new_dict[lista[index]][0]\n",
        "      printRec(lista, new_dict, sequence, index+1, all_permutations)\n",
        "    else: ##this part works only with the presence of maxim two symbols that have same frequency, as in the Legrand's cryptogram\n",
        "      sequenceA = sequence+new_dict[lista[index]][0]+new_dict[lista[index]][1]\n",
        "      printRec(lista, new_dict, sequenceA, index+1, all_permutations)\n",
        "      sequenceB = sequence+new_dict[lista[index]][1]+new_dict[lista[index]][0]\n",
        "      printRec(lista, new_dict, sequenceB, index+1, all_permutations)"
      ],
      "metadata": {
        "id": "ne4hIoYtrzDS"
      },
      "execution_count": 89,
      "outputs": []
    },
    {
      "cell_type": "code",
      "source": [
        "#all_permutations list gathers all the possible sequences\n",
        "all_permutations=[]\n",
        "printRec(ordFreqList, new_dict, \"\", 0, all_permutations)\n",
        "for permutation in all_permutations:\n",
        "  print(permutation)"
      ],
      "metadata": {
        "colab": {
          "base_uri": "https://localhost:8080/"
        },
        "id": "jP3K1PIHt1nj",
        "outputId": "29268f38-a340-4d08-a397-f8035d5117d5"
      },
      "execution_count": 90,
      "outputs": [
        {
          "output_type": "stream",
          "name": "stdout",
          "text": [
            "8;4‡)*56(†10293:?¶.—\n",
            "8;4‡)*56(†10293:?¶—.\n",
            "8;4‡)*56(†1029:3?¶.—\n",
            "8;4‡)*56(†1029:3?¶—.\n",
            "8;4‡)*56(†10923:?¶.—\n",
            "8;4‡)*56(†10923:?¶—.\n",
            "8;4‡)*56(†1092:3?¶.—\n",
            "8;4‡)*56(†1092:3?¶—.\n",
            "8;4‡)*56(1†0293:?¶.—\n",
            "8;4‡)*56(1†0293:?¶—.\n",
            "8;4‡)*56(1†029:3?¶.—\n",
            "8;4‡)*56(1†029:3?¶—.\n",
            "8;4‡)*56(1†0923:?¶.—\n",
            "8;4‡)*56(1†0923:?¶—.\n",
            "8;4‡)*56(1†092:3?¶.—\n",
            "8;4‡)*56(1†092:3?¶—.\n",
            "8;4)‡*56(†10293:?¶.—\n",
            "8;4)‡*56(†10293:?¶—.\n",
            "8;4)‡*56(†1029:3?¶.—\n",
            "8;4)‡*56(†1029:3?¶—.\n",
            "8;4)‡*56(†10923:?¶.—\n",
            "8;4)‡*56(†10923:?¶—.\n",
            "8;4)‡*56(†1092:3?¶.—\n",
            "8;4)‡*56(†1092:3?¶—.\n",
            "8;4)‡*56(1†0293:?¶.—\n",
            "8;4)‡*56(1†0293:?¶—.\n",
            "8;4)‡*56(1†029:3?¶.—\n",
            "8;4)‡*56(1†029:3?¶—.\n",
            "8;4)‡*56(1†0923:?¶.—\n",
            "8;4)‡*56(1†0923:?¶—.\n",
            "8;4)‡*56(1†092:3?¶.—\n",
            "8;4)‡*56(1†092:3?¶—.\n"
          ]
        }
      ]
    },
    {
      "cell_type": "markdown",
      "source": [
        "The cryptogram's frequencies can be better visualized through a bar chart:"
      ],
      "metadata": {
        "id": "keQgFcnFg2v_"
      }
    },
    {
      "cell_type": "code",
      "source": [
        "import matplotlib.pyplot as plt\n",
        "\n",
        "plt.figure(figsize=(13, 6)) \n",
        "plt.bar(range(len(freqCryptogram)), list(freqCryptogram.values()), align='center')\n",
        "plt.xticks(range(len(freqCryptogram)), list(freqCryptogram.keys()))\n",
        "\n",
        "plt.show()"
      ],
      "metadata": {
        "colab": {
          "base_uri": "https://localhost:8080/",
          "height": 374
        },
        "id": "Eun9Iablg5Xi",
        "outputId": "5e302651-5504-47c1-d993-fbf85953bc2d"
      },
      "execution_count": 91,
      "outputs": [
        {
          "output_type": "display_data",
          "data": {
            "text/plain": [
              "<Figure size 936x432 with 1 Axes>"
            ],
            "image/png": "[encoded data removed]"
          },
          "metadata": {
            "needs_background": "light"
          }
        }
      ]
    },
    {
      "cell_type": "markdown",
      "source": [
        "####*Corpora frequency analysis*  \n",
        "The usage of a corpus is essential to decrypt following the same path of Legrand.  \n",
        "Two corpora have been created to compare if letters frequencies changed during the centuries: the first one reflects the most frequent letters of the 19th century - Poe's time, while the second one depicts the contemporary frequencies of English letters.  \n",
        "The decryption will be made using both frequency analyses, one at the time.  \n"
      ],
      "metadata": {
        "id": "obDtKH3rH7g7"
      }
    },
    {
      "cell_type": "markdown",
      "source": [
        " 1. The first corpus has been created taking in consideration all the tales (retrieved from https://www.gutenberg.org/) written by the author Edgar Allan Poe, obviously with the exception of The Gold Bug. The texts have been transformed in lowercase and punctuation has been removed; then words have been split in letters in order to calculate their frequency. "
      ],
      "metadata": {
        "id": "bd8ShFG91s-P"
      }
    },
    {
      "cell_type": "code",
      "source": [
        "def noPunctuation(text):\n",
        "  noPunct = []\n",
        "  for word in text:\n",
        "    if word.isalnum():\n",
        "      noPunct.append(word)\n",
        "  return noPunct\n",
        "\n",
        "def noCAP(text):\n",
        "  min = text.lower()\n",
        "  return min"
      ],
      "metadata": {
        "id": "ZukqjYsfH-9j"
      },
      "execution_count": 92,
      "outputs": []
    },
    {
      "cell_type": "code",
      "source": [
        "with open(\"EAP_tales.txt\", mode=\"r\", encoding=\"UTF-8\") as EAP_tales: \n",
        "  tales = EAP_tales.read()\n",
        "  ncTales = noCAP(tales)\n",
        "  npTales = noPunctuation(ncTales)\n",
        "  rTales = Recurrence(npTales)\n",
        "  freqTales = Frequency(rTales)\n",
        "  freqPoesTime1 = orderFreq(freqTales) #only first 26 results are alphabet's letters\n",
        "  freqPoesTime = dict(list(freqPoesTime1.items())[:26])\n",
        "  for (symbol,freq) in freqPoesTime.items():\n",
        "    print(\"{:<2}: {:1.4f}\".format(symbol,freq)) "
      ],
      "metadata": {
        "colab": {
          "base_uri": "https://localhost:8080/"
        },
        "id": "v5Yg8dypf450",
        "outputId": "74655667-ff8e-4667-cfc4-40ae4c590c43"
      },
      "execution_count": 93,
      "outputs": [
        {
          "output_type": "stream",
          "name": "stdout",
          "text": [
            "e : 0.1275\n",
            "t : 0.0942\n",
            "a : 0.0782\n",
            "o : 0.0752\n",
            "i : 0.0729\n",
            "n : 0.0701\n",
            "s : 0.0604\n",
            "h : 0.0590\n",
            "r : 0.0574\n",
            "d : 0.0416\n",
            "l : 0.0399\n",
            "u : 0.0294\n",
            "c : 0.0272\n",
            "m : 0.0265\n",
            "f : 0.0253\n",
            "w : 0.0206\n",
            "p : 0.0198\n",
            "y : 0.0192\n",
            "g : 0.0184\n",
            "b : 0.0156\n",
            "v : 0.0108\n",
            "k : 0.0050\n",
            "x : 0.0021\n",
            "q : 0.0012\n",
            "j : 0.0009\n",
            "z : 0.0007\n"
          ]
        }
      ]
    },
    {
      "cell_type": "markdown",
      "source": [
        "It can be better visualized through a bar chart:"
      ],
      "metadata": {
        "id": "SlI-IQPzeS5e"
      }
    },
    {
      "cell_type": "code",
      "source": [
        "plt.figure(figsize=(13, 6)) \n",
        "plt.bar(range(len(freqPoesTime)), list(freqPoesTime.values()), align='center')\n",
        "plt.xticks(range(len(freqPoesTime)), list(freqPoesTime.keys()))\n",
        "\n",
        "plt.show()"
      ],
      "metadata": {
        "colab": {
          "base_uri": "https://localhost:8080/",
          "height": 374
        },
        "id": "L8TUNTfERVE1",
        "outputId": "a98e9c4d-780a-443c-ae84-bfc8806db26d"
      },
      "execution_count": 94,
      "outputs": [
        {
          "output_type": "display_data",
          "data": {
            "text/plain": [
              "<Figure size 936x432 with 1 Axes>"
            ],
            "image/png": "[encoded data removed]"
          },
          "metadata": {
            "needs_background": "light"
          }
        }
      ]
    },
    {
      "cell_type": "markdown",
      "source": [
        "2. Switching to nowadays letters frequencies, the following corpus has been created using COCA Corpus as a base, since it offers the list of the most frequent English words. Once that the Corpus of Contemporary American English has been downloaded (retrieved from www.wordfrequency.info), a .csv file has been created concatenating the column H \"Words\" of the third sheet \"WordForms\", together with column I \"WordFreq\". The .csv file is the starting point for the creation of letters' frequencies corpus."
      ],
      "metadata": {
        "id": "phMKNWqESaO8"
      }
    },
    {
      "cell_type": "code",
      "source": [
        "from csv import reader\n",
        "frequentEnglishWords = []\n",
        "with open(\"WF.csv\") as WF:\n",
        "  next(WF)\n",
        "  for row in WF:\n",
        "    frequentEnglishWords.append(row.split()[0])\n",
        "\n",
        "nop = noPunctuation(str(frequentEnglishWords))\n",
        "nocap = (noCAP(''.join(nop)))\n",
        "Rnop = Recurrence(nocap)\n",
        "FRnop = Frequency(Rnop)\n",
        "freqContemporary = orderFreq(FRnop)\n",
        "\n",
        "for (symbol,freq) in freqContemporary.items():\n",
        "  print(\"{:<2}: {:1.4f}\".format(symbol,freq))"
      ],
      "metadata": {
        "colab": {
          "base_uri": "https://localhost:8080/"
        },
        "id": "YE19_0uZvs4T",
        "outputId": "3a3a59ca-cacb-44b4-ce27-5014620b16f7"
      },
      "execution_count": 96,
      "outputs": [
        {
          "output_type": "stream",
          "name": "stdout",
          "text": [
            "e : 0.1257\n",
            "s : 0.0993\n",
            "i : 0.0844\n",
            "r : 0.0734\n",
            "t : 0.0729\n",
            "n : 0.0727\n",
            "a : 0.0697\n",
            "o : 0.0591\n",
            "l : 0.0440\n",
            "c : 0.0433\n",
            "d : 0.0406\n",
            "g : 0.0317\n",
            "p : 0.0304\n",
            "u : 0.0284\n",
            "m : 0.0246\n",
            "h : 0.0217\n",
            "f : 0.0147\n",
            "b : 0.0141\n",
            "v : 0.0122\n",
            "y : 0.0111\n",
            "w : 0.0096\n",
            "k : 0.0088\n",
            "x : 0.0030\n",
            "j : 0.0016\n",
            "q : 0.0015\n",
            "z : 0.0014\n"
          ]
        }
      ]
    },
    {
      "cell_type": "markdown",
      "source": [
        "It can be better visualized through a bar chart:"
      ],
      "metadata": {
        "id": "2dEnnuAnees7"
      }
    },
    {
      "cell_type": "code",
      "source": [
        "plt.figure(figsize=(13, 6)) \n",
        "plt.bar(range(len(freqContemporary)), list(freqContemporary.values()), align='center')\n",
        "plt.xticks(range(len(freqContemporary)), list(freqContemporary.keys()))\n",
        "\n",
        "plt.show()"
      ],
      "metadata": {
        "colab": {
          "base_uri": "https://localhost:8080/",
          "height": 374
        },
        "id": "CDH62mK3ehPu",
        "outputId": "e95c87ce-3969-4973-b5a8-30a156034d0e"
      },
      "execution_count": 97,
      "outputs": [
        {
          "output_type": "display_data",
          "data": {
            "text/plain": [
              "<Figure size 936x432 with 1 Axes>"
            ],
            "image/png": "[encoded data removed]"
          },
          "metadata": {
            "needs_background": "light"
          }
        }
      ]
    },
    {
      "cell_type": "markdown",
      "source": [
        "####*Cracking the cryptogram in a computational way*  \n",
        "Once obtained these three different frequency analyses, it is time to decrypt Legrand's cryptogram in a computational way, substituting the most frequent symbol with the corresponding most frequent letter of Poe's time (repeating the procedure for every symbol/English letter) and then doing it again, but with contemporary frequencies."
      ],
      "metadata": {
        "id": "c7bp2vdf9O24"
      }
    },
    {
      "cell_type": "code",
      "source": [
        "LfreqPoesTime = list(freqPoesTime)\n",
        "LfreqContemporary = list(freqContemporary)\n",
        "\n",
        "#function for the cryptogram's conversion, given a permutation and a corpus' frequency list\n",
        "def mapping(PoeCryptogram, permutation, LfreqCorpus):\n",
        "  dictMapping = dict(zip(list(permutation), LfreqCorpus[0:len(permutation)]))\n",
        "  decryption = []\n",
        "  for symbol in PoeCryptogram:\n",
        "    if symbol in dictMapping:\n",
        "      decryption.append(dictMapping[symbol])\n",
        "  return decryption"
      ],
      "metadata": {
        "id": "32r0nFgqgc4i"
      },
      "execution_count": 98,
      "outputs": []
    },
    {
      "cell_type": "markdown",
      "source": [
        "The decryptions based on the letters' frequency at Poe's time is the following: (the original cryptogram is printed before to compare it with the solutions; afterwards the real solution of the cryptogram is proposed)"
      ],
      "metadata": {
        "id": "TlpFKRJR4MGi"
      }
    },
    {
      "cell_type": "code",
      "source": [
        "decryption = \"A good glass in the bishop’s hostel in the devil’s seat forty-one degrees and thirteen minutes north-east and by north main branch seventh limb east side shoot from the left eye of the death’s-head a bee-line from the tree through the shot fifty feet out.\"\n",
        "print(PoeCiphertext)\n",
        "print()\n",
        "for permutation in all_permutations:\n",
        "  decrypted = mapping(PoeCryptogram, permutation, LfreqPoesTime)\n",
        "  print(''.join(decrypted))\n",
        "print()\n",
        "print(\"The decryption proposed by Legrand is the following: {}\".format(decryption))"
      ],
      "metadata": {
        "colab": {
          "base_uri": "https://localhost:8080/"
        },
        "id": "cbh8n9hH4Uax",
        "outputId": "3aa78296-5657-4b04-caca-96ae25fc1db6"
      },
      "execution_count": 99,
      "outputs": [
        {
          "output_type": "stream",
          "name": "stdout",
          "text": [
            "53‡‡†305))6*;4826)4‡.)4‡);806*;48†8¶60))85;1‡(;:‡*8†83(88)5*†;46(;88*96*?;8)*‡(;485);5*†2:*‡(;4956*2(5*—4)8¶8*;4069285);)6†8)4‡‡;1(‡9;48081;8:8‡1;48†85;4)485†528806*81(‡9;48;(88;4(‡?34;48)4‡;161;:188;‡?;\n",
            "\n",
            "sfoodfusiihntaechiaogiaoiteuhntaedeyhuiiestlortwonedefreeisndtahrteenmhnpteinortaesitsndcwnortamshncrsnbaieyentauhmcesitihdeiaootlromtaeuelteweoltaedestaiaesdsceeuhnelromtaetreetaropfataeiaotlhltwleetopt\n",
            "sfoodfusiihntaechiaobiaoiteuhntaedeyhuiiestlortwonedefreeisndtahrteenmhnpteinortaesitsndcwnortamshncrsngaieyentauhmcesitihdeiaootlromtaeuelteweoltaedestaiaesdsceeuhnelromtaetreetaropfataeiaotlhltwleetopt\n",
            "swoodwusiihntaechiaogiaoiteuhntaedeyhuiiestlortfonedewreeisndtahrteenmhnpteinortaesitsndcfnortamshncrsnbaieyentauhmcesitihdeiaootlromtaeueltefeoltaedestaiaesdsceeuhnelromtaetreetaropwataeiaotlhltfleetopt\n",
            "swoodwusiihntaechiaobiaoiteuhntaedeyhuiiestlortfonedewreeisndtahrteenmhnpteinortaesitsndcfnortamshncrsngaieyentauhmcesitihdeiaootlromtaeueltefeoltaedestaiaesdsceeuhnelromtaetreetaropwataeiaotlhltfleetopt\n",
            "sfoodfusiihntaemhiaogiaoiteuhntaedeyhuiiestlortwonedefreeisndtahrteenchnpteinortaesitsndmwnortacshnmrsnbaieyentauhcmesitihdeiaootlroctaeuelteweoltaedestaiaesdsmeeuhnelroctaetreetaropfataeiaotlhltwleetopt\n",
            "sfoodfusiihntaemhiaobiaoiteuhntaedeyhuiiestlortwonedefreeisndtahrteenchnpteinortaesitsndmwnortacshnmrsngaieyentauhcmesitihdeiaootlroctaeuelteweoltaedestaiaesdsmeeuhnelroctaetreetaropfataeiaotlhltwleetopt\n",
            "swoodwusiihntaemhiaogiaoiteuhntaedeyhuiiestlortfonedewreeisndtahrteenchnpteinortaesitsndmfnortacshnmrsnbaieyentauhcmesitihdeiaootlroctaeueltefeoltaedestaiaesdsmeeuhnelroctaetreetaropwataeiaotlhltfleetopt\n",
            "swoodwusiihntaemhiaobiaoiteuhntaedeyhuiiestlortfonedewreeisndtahrteenchnpteinortaesitsndmfnortacshnmrsngaieyentauhcmesitihdeiaootlroctaeueltefeoltaedestaiaesdsmeeuhnelroctaetreetaropwataeiaotlhltfleetopt\n",
            "sfoolfusiihntaechiaogiaoiteuhntaeleyhuiiestdortwonelefreeisnltahrteenmhnpteinortaesitsnlcwnortamshncrsnbaieyentauhmcesitihleiaootdromtaeuedteweodtaelestaiaeslsceeuhnedromtaetreetaropfataeiaotdhdtwdeetopt\n",
            "sfoolfusiihntaechiaobiaoiteuhntaeleyhuiiestdortwonelefreeisnltahrteenmhnpteinortaesitsnlcwnortamshncrsngaieyentauhmcesitihleiaootdromtaeuedteweodtaelestaiaeslsceeuhnedromtaetreetaropfataeiaotdhdtwdeetopt\n",
            "swoolwusiihntaechiaogiaoiteuhntaeleyhuiiestdortfonelewreeisnltahrteenmhnpteinortaesitsnlcfnortamshncrsnbaieyentauhmcesitihleiaootdromtaeuedtefeodtaelestaiaeslsceeuhnedromtaetreetaropwataeiaotdhdtfdeetopt\n",
            "swoolwusiihntaechiaobiaoiteuhntaeleyhuiiestdortfonelewreeisnltahrteenmhnpteinortaesitsnlcfnortamshncrsngaieyentauhmcesitihleiaootdromtaeuedtefeodtaelestaiaeslsceeuhnedromtaetreetaropwataeiaotdhdtfdeetopt\n",
            "sfoolfusiihntaemhiaogiaoiteuhntaeleyhuiiestdortwonelefreeisnltahrteenchnpteinortaesitsnlmwnortacshnmrsnbaieyentauhcmesitihleiaootdroctaeuedteweodtaelestaiaeslsmeeuhnedroctaetreetaropfataeiaotdhdtwdeetopt\n",
            "sfoolfusiihntaemhiaobiaoiteuhntaeleyhuiiestdortwonelefreeisnltahrteenchnpteinortaesitsnlmwnortacshnmrsngaieyentauhcmesitihleiaootdroctaeuedteweodtaelestaiaeslsmeeuhnedroctaetreetaropfataeiaotdhdtwdeetopt\n",
            "swoolwusiihntaemhiaogiaoiteuhntaeleyhuiiestdortfonelewreeisnltahrteenchnpteinortaesitsnlmfnortacshnmrsnbaieyentauhcmesitihleiaootdroctaeuedtefeodtaelestaiaeslsmeeuhnedroctaetreetaropwataeiaotdhdtfdeetopt\n",
            "swoolwusiihntaemhiaobiaoiteuhntaeleyhuiiestdortfonelewreeisnltahrteenchnpteinortaesitsnlmfnortacshnmrsngaieyentauhcmesitihleiaootdroctaeuedtefeodtaelestaiaeslsmeeuhnedroctaetreetaropwataeiaotdhdtfdeetopt\n",
            "sfiidfusoohntaechoaigoaioteuhntaedeyhuooestlirtwinedefreeosndtahrteenmhnpteonirtaesotsndcwnirtamshncrsnbaoeyentauhmcesotohdeoaiitlrimtaeuelteweiltaedestaoaesdsceeuhnelrimtaetreetaripfataeoaitlhltwleetipt\n",
            "sfiidfusoohntaechoaiboaioteuhntaedeyhuooestlirtwinedefreeosndtahrteenmhnpteonirtaesotsndcwnirtamshncrsngaoeyentauhmcesotohdeoaiitlrimtaeuelteweiltaedestaoaesdsceeuhnelrimtaetreetaripfataeoaitlhltwleetipt\n",
            "swiidwusoohntaechoaigoaioteuhntaedeyhuooestlirtfinedewreeosndtahrteenmhnpteonirtaesotsndcfnirtamshncrsnbaoeyentauhmcesotohdeoaiitlrimtaeueltefeiltaedestaoaesdsceeuhnelrimtaetreetaripwataeoaitlhltfleetipt\n",
            "swiidwusoohntaechoaiboaioteuhntaedeyhuooestlirtfinedewreeosndtahrteenmhnpteonirtaesotsndcfnirtamshncrsngaoeyentauhmcesotohdeoaiitlrimtaeueltefeiltaedestaoaesdsceeuhnelrimtaetreetaripwataeoaitlhltfleetipt\n",
            "sfiidfusoohntaemhoaigoaioteuhntaedeyhuooestlirtwinedefreeosndtahrteenchnpteonirtaesotsndmwnirtacshnmrsnbaoeyentauhcmesotohdeoaiitlrictaeuelteweiltaedestaoaesdsmeeuhnelrictaetreetaripfataeoaitlhltwleetipt\n",
            "sfiidfusoohntaemhoaiboaioteuhntaedeyhuooestlirtwinedefreeosndtahrteenchnpteonirtaesotsndmwnirtacshnmrsngaoeyentauhcmesotohdeoaiitlrictaeuelteweiltaedestaoaesdsmeeuhnelrictaetreetaripfataeoaitlhltwleetipt\n",
            "swiidwusoohntaemhoaigoaioteuhntaedeyhuooestlirtfinedewreeosndtahrteenchnpteonirtaesotsndmfnirtacshnmrsnbaoeyentauhcmesotohdeoaiitlrictaeueltefeiltaedestaoaesdsmeeuhnelrictaetreetaripwataeoaitlhltfleetipt\n",
            "swiidwusoohntaemhoaiboaioteuhntaedeyhuooestlirtfinedewreeosndtahrteenchnpteonirtaesotsndmfnirtacshnmrsngaoeyentauhcmesotohdeoaiitlrictaeueltefeiltaedestaoaesdsmeeuhnelrictaetreetaripwataeoaitlhltfleetipt\n",
            "sfiilfusoohntaechoaigoaioteuhntaeleyhuooestdirtwinelefreeosnltahrteenmhnpteonirtaesotsnlcwnirtamshncrsnbaoeyentauhmcesotohleoaiitdrimtaeuedteweidtaelestaoaeslsceeuhnedrimtaetreetaripfataeoaitdhdtwdeetipt\n",
            "sfiilfusoohntaechoaiboaioteuhntaeleyhuooestdirtwinelefreeosnltahrteenmhnpteonirtaesotsnlcwnirtamshncrsngaoeyentauhmcesotohleoaiitdrimtaeuedteweidtaelestaoaeslsceeuhnedrimtaetreetaripfataeoaitdhdtwdeetipt\n",
            "swiilwusoohntaechoaigoaioteuhntaeleyhuooestdirtfinelewreeosnltahrteenmhnpteonirtaesotsnlcfnirtamshncrsnbaoeyentauhmcesotohleoaiitdrimtaeuedtefeidtaelestaoaeslsceeuhnedrimtaetreetaripwataeoaitdhdtfdeetipt\n",
            "swiilwusoohntaechoaiboaioteuhntaeleyhuooestdirtfinelewreeosnltahrteenmhnpteonirtaesotsnlcfnirtamshncrsngaoeyentauhmcesotohleoaiitdrimtaeuedtefeidtaelestaoaeslsceeuhnedrimtaetreetaripwataeoaitdhdtfdeetipt\n",
            "sfiilfusoohntaemhoaigoaioteuhntaeleyhuooestdirtwinelefreeosnltahrteenchnpteonirtaesotsnlmwnirtacshnmrsnbaoeyentauhcmesotohleoaiitdrictaeuedteweidtaelestaoaeslsmeeuhnedrictaetreetaripfataeoaitdhdtwdeetipt\n",
            "sfiilfusoohntaemhoaiboaioteuhntaeleyhuooestdirtwinelefreeosnltahrteenchnpteonirtaesotsnlmwnirtacshnmrsngaoeyentauhcmesotohleoaiitdrictaeuedteweidtaelestaoaeslsmeeuhnedrictaetreetaripfataeoaitdhdtwdeetipt\n",
            "swiilwusoohntaemhoaigoaioteuhntaeleyhuooestdirtfinelewreeosnltahrteenchnpteonirtaesotsnlmfnirtacshnmrsnbaoeyentauhcmesotohleoaiitdrictaeuedtefeidtaelestaoaeslsmeeuhnedrictaetreetaripwataeoaitdhdtfdeetipt\n",
            "swiilwusoohntaemhoaiboaioteuhntaeleyhuooestdirtfinelewreeosnltahrteenchnpteonirtaesotsnlmfnirtacshnmrsngaoeyentauhcmesotohleoaiitdrictaeuedtefeidtaelestaoaeslsmeeuhnedrictaetreetaripwataeoaitdhdtfdeetipt\n",
            "\n",
            "The decryption proposed by Legrand is the following: A good glass in the bishop’s hostel in the devil’s seat forty-one degrees and thirteen minutes north-east and by north main branch seventh limb east side shoot from the left eye of the death’s-head a bee-line from the tree through the shot fifty feet out.\n"
          ]
        }
      ]
    },
    {
      "cell_type": "markdown",
      "source": [
        "The decryptions based on the contemporary letters' frequency is the following: (the original cryptogram is printed before to compare it with the solutions; afterwards the real solution of the cryptogram is proposed)"
      ],
      "metadata": {
        "id": "c0yrkes24Uqe"
      }
    },
    {
      "cell_type": "code",
      "source": [
        "print(PoeCiphertext)\n",
        "print()\n",
        "for permutation in all_permutations:\n",
        "  decrypted = mapping(PoeCryptogram, permutation, LfreqContemporary)\n",
        "  print(''.join(decrypted)) \n",
        "print()\n",
        "print(\"The decryption proposed by Legrand is the following: {}\".format(decryption))"
      ],
      "metadata": {
        "colab": {
          "base_uri": "https://localhost:8080/"
        },
        "id": "st-dKBH_4YVW",
        "outputId": "f36d0b85-7da2-422d-97c0-b548de058558"
      },
      "execution_count": 100,
      "outputs": [
        {
          "output_type": "stream",
          "name": "stdout",
          "text": [
            "53‡‡†305))6*;4826)4‡.)4‡);806*;48†8¶60))85;1‡(;:‡*8†83(88)5*†;46(;88*96*?;8)*‡(;485);5*†2:*‡(;4956*2(5*—4)8¶8*;4069285);)6†8)4‡‡;1(‡9;48081;8:8‡1;48†85;4)485†528806*81(‡9;48;(88;4(‡?34;48)4‡;161;:188;‡?;\n",
            "\n",
            "amrrcmgattonsiepotirvtirtsegonsiecebogtteasdrlshrnecemleetancsiolseenuonfsetnrlsieatsancphnrlsiuaonplanyitebensigoupeatstocetirrsdlrusiegedseherdsieceasitieacapeegonedlrusiesleesilrfmisietirsdodshdeesrfs\n",
            "amrrcmgattonsiepotirytirtsegonsiecebogtteasdrlshrnecemleetancsiolseenuonfsetnrlsieatsancphnrlsiuaonplanvitebensigoupeatstocetirrsdlrusiegedseherdsieceasitieacapeegonedlrusiesleesilrfmisietirsdodshdeesrfs\n",
            "ahrrchgattonsiepotirvtirtsegonsiecebogtteasdrlsmrnecehleetancsiolseenuonfsetnrlsieatsancpmnrlsiuaonplanyitebensigoupeatstocetirrsdlrusiegedsemerdsieceasitieacapeegonedlrusiesleesilrfhisietirsdodsmdeesrfs\n",
            "ahrrchgattonsiepotirytirtsegonsiecebogtteasdrlsmrnecehleetancsiolseenuonfsetnrlsieatsancpmnrlsiuaonplanvitebensigoupeatstocetirrsdlrusiegedsemerdsieceasitieacapeegonedlrusiesleesilrfhisietirsdodsmdeesrfs\n",
            "amrrcmgattonsieuotirvtirtsegonsiecebogtteasdrlshrnecemleetancsiolseenponfsetnrlsieatsancuhnrlsipaonulanyitebensigopueatstocetirrsdlrpsiegedseherdsieceasitieacaueegonedlrpsiesleesilrfmisietirsdodshdeesrfs\n",
            "amrrcmgattonsieuotirytirtsegonsiecebogtteasdrlshrnecemleetancsiolseenponfsetnrlsieatsancuhnrlsipaonulanvitebensigopueatstocetirrsdlrpsiegedseherdsieceasitieacaueegonedlrpsiesleesilrfmisietirsdodshdeesrfs\n",
            "ahrrchgattonsieuotirvtirtsegonsiecebogtteasdrlsmrnecehleetancsiolseenponfsetnrlsieatsancumnrlsipaonulanyitebensigopueatstocetirrsdlrpsiegedsemerdsieceasitieacaueegonedlrpsiesleesilrfhisietirsdodsmdeesrfs\n",
            "ahrrchgattonsieuotirytirtsegonsiecebogtteasdrlsmrnecehleetancsiolseenponfsetnrlsieatsancumnrlsipaonulanvitebensigopueatstocetirrsdlrpsiegedsemerdsieceasitieacaueegonedlrpsiesleesilrfhisietirsdodsmdeesrfs\n",
            "amrrdmgattonsiepotirvtirtsegonsiedebogtteascrlshrnedemleetandsiolseenuonfsetnrlsieatsandphnrlsiuaonplanyitebensigoupeatstodetirrsclrusiegecsehercsiedeasitieadapeegoneclrusiesleesilrfmisietirscocshceesrfs\n",
            "amrrdmgattonsiepotirytirtsegonsiedebogtteascrlshrnedemleetandsiolseenuonfsetnrlsieatsandphnrlsiuaonplanvitebensigoupeatstodetirrsclrusiegecsehercsiedeasitieadapeegoneclrusiesleesilrfmisietirscocshceesrfs\n",
            "ahrrdhgattonsiepotirvtirtsegonsiedebogtteascrlsmrnedehleetandsiolseenuonfsetnrlsieatsandpmnrlsiuaonplanyitebensigoupeatstodetirrsclrusiegecsemercsiedeasitieadapeegoneclrusiesleesilrfhisietirscocsmceesrfs\n",
            "ahrrdhgattonsiepotirytirtsegonsiedebogtteascrlsmrnedehleetandsiolseenuonfsetnrlsieatsandpmnrlsiuaonplanvitebensigoupeatstodetirrsclrusiegecsemercsiedeasitieadapeegoneclrusiesleesilrfhisietirscocsmceesrfs\n",
            "amrrdmgattonsieuotirvtirtsegonsiedebogtteascrlshrnedemleetandsiolseenponfsetnrlsieatsanduhnrlsipaonulanyitebensigopueatstodetirrsclrpsiegecsehercsiedeasitieadaueegoneclrpsiesleesilrfmisietirscocshceesrfs\n",
            "amrrdmgattonsieuotirytirtsegonsiedebogtteascrlshrnedemleetandsiolseenponfsetnrlsieatsanduhnrlsipaonulanvitebensigopueatstodetirrsclrpsiegecsehercsiedeasitieadaueegoneclrpsiesleesilrfmisietirscocshceesrfs\n",
            "ahrrdhgattonsieuotirvtirtsegonsiedebogtteascrlsmrnedehleetandsiolseenponfsetnrlsieatsandumnrlsipaonulanyitebensigopueatstodetirrsclrpsiegecsemercsiedeasitieadaueegoneclrpsiesleesilrfhisietirscocsmceesrfs\n",
            "ahrrdhgattonsieuotirytirtsegonsiedebogtteascrlsmrnedehleetandsiolseenponfsetnrlsieatsandumnrlsipaonulanvitebensigopueatstodetirrsclrpsiegecsemercsiedeasitieadaueegoneclrpsiesleesilrfhisietirscocsmceesrfs\n",
            "amttcmgarronsieporitvritrsegonsiecebogrreasdtlshtnecemleerancsiolseenuonfserntlsiearsancphntlsiuaonplanyirebensigoupearsrocerittsdltusiegedsehetdsieceasirieacapeegonedltusiesleesiltfmisieritsdodshdeestfs\n",
            "amttcmgarronsieporityritrsegonsiecebogrreasdtlshtnecemleerancsiolseenuonfserntlsiearsancphntlsiuaonplanvirebensigoupearsrocerittsdltusiegedsehetdsieceasirieacapeegonedltusiesleesiltfmisieritsdodshdeestfs\n",
            "ahttchgarronsieporitvritrsegonsiecebogrreasdtlsmtnecehleerancsiolseenuonfserntlsiearsancpmntlsiuaonplanyirebensigoupearsrocerittsdltusiegedsemetdsieceasirieacapeegonedltusiesleesiltfhisieritsdodsmdeestfs\n",
            "ahttchgarronsieporityritrsegonsiecebogrreasdtlsmtnecehleerancsiolseenuonfserntlsiearsancpmntlsiuaonplanvirebensigoupearsrocerittsdltusiegedsemetdsieceasirieacapeegonedltusiesleesiltfhisieritsdodsmdeestfs\n",
            "amttcmgarronsieuoritvritrsegonsiecebogrreasdtlshtnecemleerancsiolseenponfserntlsiearsancuhntlsipaonulanyirebensigopuearsrocerittsdltpsiegedsehetdsieceasirieacaueegonedltpsiesleesiltfmisieritsdodshdeestfs\n",
            "amttcmgarronsieuorityritrsegonsiecebogrreasdtlshtnecemleerancsiolseenponfserntlsiearsancuhntlsipaonulanvirebensigopuearsrocerittsdltpsiegedsehetdsieceasirieacaueegonedltpsiesleesiltfmisieritsdodshdeestfs\n",
            "ahttchgarronsieuoritvritrsegonsiecebogrreasdtlsmtnecehleerancsiolseenponfserntlsiearsancumntlsipaonulanyirebensigopuearsrocerittsdltpsiegedsemetdsieceasirieacaueegonedltpsiesleesiltfhisieritsdodsmdeestfs\n",
            "ahttchgarronsieuorityritrsegonsiecebogrreasdtlsmtnecehleerancsiolseenponfserntlsiearsancumntlsipaonulanvirebensigopuearsrocerittsdltpsiegedsemetdsieceasirieacaueegonedltpsiesleesiltfhisieritsdodsmdeestfs\n",
            "amttdmgarronsieporitvritrsegonsiedebogrreasctlshtnedemleerandsiolseenuonfserntlsiearsandphntlsiuaonplanyirebensigoupearsroderittscltusiegecsehetcsiedeasirieadapeegonecltusiesleesiltfmisieritscocshceestfs\n",
            "amttdmgarronsieporityritrsegonsiedebogrreasctlshtnedemleerandsiolseenuonfserntlsiearsandphntlsiuaonplanvirebensigoupearsroderittscltusiegecsehetcsiedeasirieadapeegonecltusiesleesiltfmisieritscocshceestfs\n",
            "ahttdhgarronsieporitvritrsegonsiedebogrreasctlsmtnedehleerandsiolseenuonfserntlsiearsandpmntlsiuaonplanyirebensigoupearsroderittscltusiegecsemetcsiedeasirieadapeegonecltusiesleesiltfhisieritscocsmceestfs\n",
            "ahttdhgarronsieporityritrsegonsiedebogrreasctlsmtnedehleerandsiolseenuonfserntlsiearsandpmntlsiuaonplanvirebensigoupearsroderittscltusiegecsemetcsiedeasirieadapeegonecltusiesleesiltfhisieritscocsmceestfs\n",
            "amttdmgarronsieuoritvritrsegonsiedebogrreasctlshtnedemleerandsiolseenponfserntlsiearsanduhntlsipaonulanyirebensigopuearsroderittscltpsiegecsehetcsiedeasirieadaueegonecltpsiesleesiltfmisieritscocshceestfs\n",
            "amttdmgarronsieuorityritrsegonsiedebogrreasctlshtnedemleerandsiolseenponfserntlsiearsanduhntlsipaonulanvirebensigopuearsroderittscltpsiegecsehetcsiedeasirieadaueegonecltpsiesleesiltfmisieritscocshceestfs\n",
            "ahttdhgarronsieuoritvritrsegonsiedebogrreasctlsmtnedehleerandsiolseenponfserntlsiearsandumntlsipaonulanyirebensigopuearsroderittscltpsiegecsemetcsiedeasirieadaueegonecltpsiesleesiltfhisieritscocsmceestfs\n",
            "ahttdhgarronsieuorityritrsegonsiedebogrreasctlsmtnedehleerandsiolseenponfserntlsiearsandumntlsipaonulanvirebensigopuearsroderittscltpsiegecsemetcsiedeasirieadaueegonecltpsiesleesiltfhisieritscocsmceestfs\n",
            "\n",
            "The decryption proposed by Legrand is the following: A good glass in the bishop’s hostel in the devil’s seat forty-one degrees and thirteen minutes north-east and by north main branch seventh limb east side shoot from the left eye of the death’s-head a bee-line from the tree through the shot fifty feet out.\n"
          ]
        }
      ]
    },
    {
      "cell_type": "markdown",
      "source": [
        "An analysis of the results and considerations about them will be presented in the third chapter's second paragraph of the above-mentioned Bachelor thesis."
      ],
      "metadata": {
        "id": "J_1BK-OG3VAP"
      }
    },
    {
      "cell_type": "markdown",
      "source": [
        "####*Encryption*    \n",
        "Even the opposite process can be accomplished in a computational way, i.e. the encryption.  "
      ],
      "metadata": {
        "id": "ZI6jaN74D3eB"
      }
    },
    {
      "cell_type": "markdown",
      "source": [
        "Following modern developments, the kind of encryption proposed by Edgar Allan Poe appears undoubtedly obsolete. Consequently, libraries like *cryptography* allow the creation of ciphertexts based on the AES Algorithm, which is not unbreakable, but it still has an higher level of security than Poe's.  \n",
        "The code that follows has been retrieved from https://www.thepythoncode.com/article/encrypt-decrypt-files-symmetric-python and has been adapted to Legrand's cryptogram."
      ],
      "metadata": {
        "id": "ZX-OC4r916uW"
      }
    },
    {
      "cell_type": "code",
      "source": [
        "!pip install cryptography\n",
        "from cryptography.fernet import Fernet"
      ],
      "metadata": {
        "colab": {
          "base_uri": "https://localhost:8080/"
        },
        "id": "KrOeEHCJD4B5",
        "outputId": "c8060ee6-0726-4282-cd70-86d45c5289bf"
      },
      "execution_count": 101,
      "outputs": [
        {
          "output_type": "stream",
          "name": "stdout",
          "text": [
            "Looking in indexes: https://pypi.org/simple, https://us-python.pkg.dev/colab-wheels/public/simple/\n",
            "Collecting cryptography\n",
            "  Downloading cryptography-38.0.1-cp36-abi3-manylinux_2_24_x86_64.whl (4.0 MB)\n",
            "\u001b[K     |████████████████████████████████| 4.0 MB 4.1 MB/s \n",
            "\u001b[?25hRequirement already satisfied: cffi>=1.12 in /usr/local/lib/python3.7/dist-packages (from cryptography) (1.15.1)\n",
            "Requirement already satisfied: pycparser in /usr/local/lib/python3.7/dist-packages (from cffi>=1.12->cryptography) (2.21)\n",
            "Installing collected packages: cryptography\n",
            "Successfully installed cryptography-38.0.1\n"
          ]
        }
      ]
    },
    {
      "cell_type": "code",
      "source": [
        "key = Fernet.generate_key()\n",
        "with open(\"AES_key.txt\", \"wb\") as key_file:\n",
        "  key_file.write(key)\n",
        "\n",
        "message = decryption.encode('utf8')\n",
        "f = Fernet(key)\n",
        "encrypted = f.encrypt(message)\n",
        "print(encrypted)"
      ],
      "metadata": {
        "colab": {
          "base_uri": "https://localhost:8080/"
        },
        "id": "paCV3nY8QVRi",
        "outputId": "e0e12480-ee37-4a7c-c861-b72c7b5b801d"
      },
      "execution_count": 102,
      "outputs": [
        {
          "output_type": "stream",
          "name": "stdout",
          "text": [
            "b'gAAAAABjJEgfLs05UlEralEgLZm2oioZFKVtH6oeTTqHDpBLaFj-dZaa4g7-LcoAR4fEXcDCeb4tBEerZXa8rrbaqjl80hnoSJLkMm3JzS8Nhmmw8Hug4lvsUvK_mk_2NDqUS9fZMGs4cjo-MN4tXRMy1RDLoIawyyx_W015izsvq68G-iRt5CIiYS9XQFcbUMuNrMHtKPfOriI3UklvT-IrQqqgRDYBL2KYwvuVJSDOhR76w4GPOcWWv4w2h0Ox9fRcsKsPudh0WzR2bh3QZR4akbdwcvvL0XgvYgeyf0MhYWFk_W0S0qaNdErzL4-d7JZkQEluMJOM72z6TNZHhAI4WERgX2gGL4yG9yPaU7il3-PyhumnYCvznwKr09kLszuptuMbm13Ho3QsAEY28iI0QXT5SPjF31GIVox0qEc6D4Isv8gy1lk='\n"
          ]
        }
      ]
    },
    {
      "cell_type": "markdown",
      "source": [
        "Another way to encrypt the message using more modern technologies is generating both a public and a private key through the library *rsa*. In this case only the former is necessary since the latter allows the decryption.  \n",
        "The code has been retrieved and adapted from https://stuvel.eu/python-rsa-doc/usage.html#generating-keys"
      ],
      "metadata": {
        "id": "4yomHbs6MQpR"
      }
    },
    {
      "cell_type": "code",
      "source": [
        "import rsa\n",
        "(pubkey, privkey) = rsa.newkeys(2162) #\"RSA can only encrypt messages that are smaller than the key. A couple of bytes are lost on random padding, and the rest is available for the message itself.\"\n",
        "keys = (pubkey, privkey)\n",
        "\n",
        "with open(\"rsa.text\", 'w+') as fp:\n",
        "  fp.write(pubkey.save_pkcs1().decode())\n",
        "  fp.write(privkey.save_pkcs1().decode())\n",
        "\n",
        "message = decryption.encode('utf8')\n",
        "crypto = rsa.encrypt(message, pubkey)\n",
        "print(crypto)"
      ],
      "metadata": {
        "colab": {
          "base_uri": "https://localhost:8080/"
        },
        "id": "MU45MlbUZ459",
        "outputId": "326e3e7b-3e1a-484e-cba7-b69c326f01d7"
      },
      "execution_count": 103,
      "outputs": [
        {
          "output_type": "stream",
          "name": "stdout",
          "text": [
            "b'\\x00\\xe7P\\xeb\\x8f\\xc6}\\xd6\\xaa\\xfb\\xf6\\xb8\\xfba\\xaa_d\\x1e\\xc8-\\xd5\\xa6\\x10\\xc5s|!/y\\xfc\\xf1B\\x10}Ra\\xa7D\\x975G\\xa3\\xe0;\\x18%GJX\\xd4c\\x1f\\xb9\\xebq-+\\xb8v\\xf5\\xe3\\xa4\\xa9F6\\xd3\\x85E1\\\\:\\x04\\xc3$E\\xe9|\\xe0\\x8cL\\x18\\x17|M\\x15hD\\xd4\\x0c\\x91\\xfe\\x85\\xf1\\xb7]ja=?%t\\xbbk\\x17>\\x1d$t\\x91\\xe0\\x8d\\xcd\\xb1\\x93\\xbe\\x12\\xc4\\xdb[\\x19\\xf4B2\\xa9\\x9e\\r\\x03\\xbf\\x14\\n\\x1c1\\x97E\\xe2\"\\xba\\x8bw\\x9c\\n\\xc9\\xfa\\xf2\\xfc\\xb0\\xbf\\xc2\\xed\\xfaT\\xe2\\xa3\\x8al\\xb7\\xcc32\\x8b\\xfc+c-\\xda\\x19\\xa9\\x89\\x8b2x\\xd0\\x82V )q\\xf4c\\xa0l\\x08\\x1d\\xb1\\xb9\\r>e\\xde?T\\x814\\xcd+\\xce\\xf1\\xa0g\\xcfE\\x86\\xcb\\xf6\\xeb\\x1a\\xf9\\x8dE\\'<p06\\xaa\\x18\\x1b\\xf0/\\xeb\\xaa\\x06\\xe0\\xd1\\xe6\\xe4\\xd3m\\xb9J3\\x91\\xef\\xaf\\xf9\\xbcCIy\\x98{\\xd5XAG_\\xd2{\\x98\\x06\\x86\\x1dl\\t[\\x1d(4\\x81\\xf3]\\xf1\\x7f\\xfd\\x84\\xc8\\xb0*\\xf4 7'\n"
          ]
        }
      ]
    }
  ]
}
